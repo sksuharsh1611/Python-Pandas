{
 "cells": [
  {
   "cell_type": "code",
   "execution_count": 1,
   "id": "eb3df132-7e71-43be-9323-37d400138bce",
   "metadata": {},
   "outputs": [],
   "source": [
    "import pandas as pd"
   ]
  },
  {
   "cell_type": "code",
   "execution_count": 2,
   "id": "02faee17-3569-41d1-ad74-02e31b2b590c",
   "metadata": {},
   "outputs": [],
   "source": [
    "df= pd.read_csv(\"https://raw.githubusercontent.com/datasciencedojo/datasets/master/titanic.csv\")"
   ]
  },
  {
   "cell_type": "code",
   "execution_count": 3,
   "id": "9792b191-3f50-49a7-8f1d-af01c342040a",
   "metadata": {},
   "outputs": [
    {
     "data": {
      "text/plain": [
       "Index(['PassengerId', 'Survived', 'Pclass', 'Name', 'Sex', 'Age', 'SibSp',\n",
       "       'Parch', 'Ticket', 'Fare', 'Cabin', 'Embarked'],\n",
       "      dtype='object')"
      ]
     },
     "execution_count": 3,
     "metadata": {},
     "output_type": "execute_result"
    }
   ],
   "source": [
    "df.columns"
   ]
  },
  {
   "cell_type": "code",
   "execution_count": 6,
   "id": "8f1455b9-2037-4769-bfd3-53d99f3e5ce6",
   "metadata": {},
   "outputs": [],
   "source": [
    "s = df['Name']  #In form of series"
   ]
  },
  {
   "cell_type": "code",
   "execution_count": 8,
   "id": "9fe12c06-f9ca-4629-8b69-66e6087bfe01",
   "metadata": {},
   "outputs": [
    {
     "data": {
      "text/plain": [
       "891"
      ]
     },
     "execution_count": 8,
     "metadata": {},
     "output_type": "execute_result"
    }
   ],
   "source": [
    "len(s)"
   ]
  },
  {
   "cell_type": "code",
   "execution_count": 9,
   "id": "88054562-0394-4539-8534-3211334188f5",
   "metadata": {},
   "outputs": [],
   "source": [
    "# To fetch chunk of data\n",
    "s=df['Name'][0:10]"
   ]
  },
  {
   "cell_type": "code",
   "execution_count": 10,
   "id": "f35a1c41-3678-4dd3-b299-5547bfb8c632",
   "metadata": {},
   "outputs": [
    {
     "data": {
      "text/plain": [
       "0                              Braund, Mr. Owen Harris\n",
       "1    Cumings, Mrs. John Bradley (Florence Briggs Th...\n",
       "2                               Heikkinen, Miss. Laina\n",
       "3         Futrelle, Mrs. Jacques Heath (Lily May Peel)\n",
       "4                             Allen, Mr. William Henry\n",
       "5                                     Moran, Mr. James\n",
       "6                              McCarthy, Mr. Timothy J\n",
       "7                       Palsson, Master. Gosta Leonard\n",
       "8    Johnson, Mrs. Oscar W (Elisabeth Vilhelmina Berg)\n",
       "9                  Nasser, Mrs. Nicholas (Adele Achem)\n",
       "Name: Name, dtype: object"
      ]
     },
     "execution_count": 10,
     "metadata": {},
     "output_type": "execute_result"
    }
   ],
   "source": [
    "s  #index is visible in series"
   ]
  },
  {
   "cell_type": "code",
   "execution_count": 11,
   "id": "10828499-20a3-4b36-afaa-8efe16bc7df1",
   "metadata": {},
   "outputs": [
    {
     "data": {
      "text/plain": [
       "pandas.core.series.Series"
      ]
     },
     "execution_count": 11,
     "metadata": {},
     "output_type": "execute_result"
    }
   ],
   "source": [
    "type(s)"
   ]
  },
  {
   "cell_type": "code",
   "execution_count": 12,
   "id": "ff846adc-0567-463c-af25-fcabbb8332fb",
   "metadata": {},
   "outputs": [
    {
     "data": {
      "text/plain": [
       "a    NaN\n",
       "b    NaN\n",
       "c    NaN\n",
       "d    NaN\n",
       "e    NaN\n",
       "f    NaN\n",
       "g    NaN\n",
       "h    NaN\n",
       "i    NaN\n",
       "j    NaN\n",
       "Name: Name, dtype: object"
      ]
     },
     "execution_count": 12,
     "metadata": {},
     "output_type": "execute_result"
    }
   ],
   "source": [
    "# Hide Default index and show custom index\n",
    "# Creating custom list with 10 items\n",
    "l = ['a','b','c','d','e','f','g','h','i','j']\n",
    "pd.Series(s,index=l)  #data is changed to NaN cuz series 's' already exists"
   ]
  },
  {
   "cell_type": "code",
   "execution_count": 16,
   "id": "3619a039-0651-4a9f-93ef-1c6a7b7a612c",
   "metadata": {},
   "outputs": [],
   "source": [
    "# To prevent NaN data.\n",
    "s1 = pd.Series(list(s),index=l)"
   ]
  },
  {
   "cell_type": "code",
   "execution_count": 17,
   "id": "fa28f32a-289f-46e5-833c-52af8576db14",
   "metadata": {},
   "outputs": [
    {
     "data": {
      "text/plain": [
       "'Braund, Mr. Owen Harris'"
      ]
     },
     "execution_count": 17,
     "metadata": {},
     "output_type": "execute_result"
    }
   ],
   "source": [
    "s[0]"
   ]
  },
  {
   "cell_type": "code",
   "execution_count": 23,
   "id": "2708ab31-0a5a-4154-b4c4-1391bb1a82bb",
   "metadata": {},
   "outputs": [
    {
     "name": "stdout",
     "output_type": "stream",
     "text": [
      "Braund, Mr. Owen Harris\n",
      "Braund, Mr. Owen Harris\n"
     ]
    }
   ],
   "source": [
    "print(s1['a'])\n",
    "print(s1[0]) #python remembers internal index"
   ]
  },
  {
   "cell_type": "code",
   "execution_count": 27,
   "id": "3f2719c1-c746-4c96-bbd8-f8b5ff818235",
   "metadata": {},
   "outputs": [
    {
     "name": "stderr",
     "output_type": "stream",
     "text": [
      "/tmp/ipykernel_98/110189754.py:3: FutureWarning: The series.append method is deprecated and will be removed from pandas in a future version. Use pandas.concat instead.\n",
      "  s2 = s1.append(s)\n"
     ]
    }
   ],
   "source": [
    "# s1.append(\"Suharsh\")\n",
    "# >>TypeError: cannot concatenate object of type '<class 'str'>'; only Series and DataFrame objs are valid\n",
    "s2 = s1.append(s) "
   ]
  },
  {
   "cell_type": "code",
   "execution_count": 28,
   "id": "e40357b8-107e-4e64-9b2e-a223f14e7480",
   "metadata": {},
   "outputs": [
    {
     "data": {
      "text/plain": [
       "'Braund, Mr. Owen Harris'"
      ]
     },
     "execution_count": 28,
     "metadata": {},
     "output_type": "execute_result"
    }
   ],
   "source": [
    "s2[0]  #considers default index"
   ]
  },
  {
   "cell_type": "code",
   "execution_count": 31,
   "id": "3d6ba2db-212a-40bc-b552-16e28e226f1e",
   "metadata": {},
   "outputs": [],
   "source": [
    "s4 = pd.Series([3,4,5,6,6], index = [2,4,5,6,1])"
   ]
  },
  {
   "cell_type": "code",
   "execution_count": 35,
   "id": "cdd12dbc-57aa-4fc6-9159-d17665daec3a",
   "metadata": {},
   "outputs": [],
   "source": [
    "s5 = pd.Series([34,45,32,12,543], index=[9,8,4,3,1])"
   ]
  },
  {
   "cell_type": "code",
   "execution_count": 36,
   "id": "0aad59ca-39c2-405c-ad9d-051714c664f4",
   "metadata": {},
   "outputs": [
    {
     "name": "stderr",
     "output_type": "stream",
     "text": [
      "/tmp/ipykernel_98/937876903.py:1: FutureWarning: The series.append method is deprecated and will be removed from pandas in a future version. Use pandas.concat instead.\n",
      "  s6 = s4.append(s5)\n"
     ]
    }
   ],
   "source": [
    "s6 = s4.append(s5)"
   ]
  },
  {
   "cell_type": "code",
   "execution_count": 41,
   "id": "3bded5b8-9ec6-4aba-85d8-2c93b8a92e2f",
   "metadata": {},
   "outputs": [
    {
     "data": {
      "text/plain": [
       "4     4\n",
       "4    32\n",
       "dtype: int64"
      ]
     },
     "execution_count": 41,
     "metadata": {},
     "output_type": "execute_result"
    }
   ],
   "source": [
    "# Returns all data present at visible indexes for custom indexes\n",
    "s6[4]"
   ]
  },
  {
   "cell_type": "code",
   "execution_count": 42,
   "id": "f70e2ec2-0309-4947-aaf9-e1a4a2512c02",
   "metadata": {},
   "outputs": [
    {
     "name": "stderr",
     "output_type": "stream",
     "text": [
      "/tmp/ipykernel_98/982890901.py:1: FutureWarning: The behavior of `series[i:j]` with an integer-dtype index is deprecated. In a future version, this will be treated as *label-based* indexing, consistent with e.g. `series[i]` lookups. To retain the old behavior, use `series.iloc[i:j]`. To get the future behavior, use `series.loc[i:j]`.\n",
      "  s6[0:5]  #in case of slicing it's taking default indexes\n"
     ]
    },
    {
     "data": {
      "text/plain": [
       "2    3\n",
       "4    4\n",
       "5    5\n",
       "6    6\n",
       "1    6\n",
       "dtype: int64"
      ]
     },
     "execution_count": 42,
     "metadata": {},
     "output_type": "execute_result"
    }
   ],
   "source": [
    "s6[0:5]  #in case of slicing it's taking default indexes"
   ]
  },
  {
   "cell_type": "code",
   "execution_count": 43,
   "id": "be53c99e-7e54-450b-83a5-504c280c53ac",
   "metadata": {},
   "outputs": [
    {
     "data": {
      "text/plain": [
       "2    3\n",
       "4    4\n",
       "5    5\n",
       "6    6\n",
       "1    6\n",
       "dtype: int64"
      ]
     },
     "execution_count": 43,
     "metadata": {},
     "output_type": "execute_result"
    }
   ],
   "source": [
    "s4"
   ]
  },
  {
   "cell_type": "code",
   "execution_count": 44,
   "id": "05f7d74d-5c71-4452-b219-07c3ae5ad4b1",
   "metadata": {},
   "outputs": [
    {
     "data": {
      "text/plain": [
       "9     34\n",
       "8     45\n",
       "4     32\n",
       "3     12\n",
       "1    543\n",
       "dtype: int64"
      ]
     },
     "execution_count": 44,
     "metadata": {},
     "output_type": "execute_result"
    }
   ],
   "source": [
    "s5"
   ]
  },
  {
   "cell_type": "code",
   "execution_count": 46,
   "id": "1918454c-9b30-469f-9868-51533cf7b7ad",
   "metadata": {},
   "outputs": [
    {
     "data": {
      "text/plain": [
       "1    3258.0\n",
       "2       NaN\n",
       "3       NaN\n",
       "4     128.0\n",
       "5       NaN\n",
       "6       NaN\n",
       "8       NaN\n",
       "9       NaN\n",
       "dtype: float64"
      ]
     },
     "execution_count": 46,
     "metadata": {},
     "output_type": "execute_result"
    }
   ],
   "source": [
    "# multiplying 2 series >> It checks for matching indexes -> if true\n",
    "# >> It'll perform operation; else returns NaN\n",
    "s4*s5"
   ]
  },
  {
   "cell_type": "code",
   "execution_count": 48,
   "id": "f8dbecd3-c3b4-4fef-8490-192c6ffde8ab",
   "metadata": {},
   "outputs": [
    {
     "data": {
      "text/plain": [
       "1    549.0\n",
       "2      NaN\n",
       "3      NaN\n",
       "4     36.0\n",
       "5      NaN\n",
       "6      NaN\n",
       "8      NaN\n",
       "9      NaN\n",
       "dtype: float64"
      ]
     },
     "execution_count": 48,
     "metadata": {},
     "output_type": "execute_result"
    }
   ],
   "source": [
    "# Same for addition operation\n",
    "s4+s5"
   ]
  },
  {
   "cell_type": "code",
   "execution_count": null,
   "id": "fdede8b7-a22c-4481-8f06-9a1a06468219",
   "metadata": {},
   "outputs": [],
   "source": []
  }
 ],
 "metadata": {
  "kernelspec": {
   "display_name": "Python 3 (ipykernel)",
   "language": "python",
   "name": "python3"
  },
  "language_info": {
   "codemirror_mode": {
    "name": "ipython",
    "version": 3
   },
   "file_extension": ".py",
   "mimetype": "text/x-python",
   "name": "python",
   "nbconvert_exporter": "python",
   "pygments_lexer": "ipython3",
   "version": "3.10.8"
  }
 },
 "nbformat": 4,
 "nbformat_minor": 5
}
